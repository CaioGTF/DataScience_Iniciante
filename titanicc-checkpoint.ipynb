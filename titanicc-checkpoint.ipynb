{
 "cells": [
  {
   "cell_type": "code",
   "execution_count": 1,
   "id": "db11c709-1319-4a99-8927-d07892948b37",
   "metadata": {},
   "outputs": [],
   "source": [
    "import pandas as pd"
   ]
  },
  {
   "cell_type": "code",
   "execution_count": 2,
   "id": "9af78a85-c237-4ec7-848a-0de33cdf8404",
   "metadata": {
    "scrolled": true
   },
   "outputs": [],
   "source": [
    "dados = pd.read_csv('titanic.csv')"
   ]
  },
  {
   "cell_type": "code",
   "execution_count": 3,
   "id": "22f11a37-a411-432d-bebf-29105152c751",
   "metadata": {
    "scrolled": true
   },
   "outputs": [],
   "source": [
    "dados = dados.sort_values('Name')"
   ]
  },
  {
   "cell_type": "code",
   "execution_count": 4,
   "id": "4bc3853f-5961-469e-8a66-e63dd37b8d68",
   "metadata": {},
   "outputs": [],
   "source": [
    "dados = dados[['Name', 'Age', 'Sex', 'Pclass', 'Survived']]"
   ]
  },
  {
   "cell_type": "code",
   "execution_count": 5,
   "id": "264fd02a-8ff3-4049-8587-4aefb2e854ef",
   "metadata": {},
   "outputs": [],
   "source": [
    "dados = dados.loc[(dados['Sex'] == 'female') & (dados['Pclass']==1) & (dados['Survived'] ==1)]"
   ]
  },
  {
   "cell_type": "code",
   "execution_count": 8,
   "id": "7f98dd88-7cb0-4d1f-9735-d2988928dd85",
   "metadata": {},
   "outputs": [],
   "source": [
    "dados.to_csv('titan1c_results.csv', index = False)"
   ]
  }
 ],
 "metadata": {
  "kernelspec": {
   "display_name": "Python 3 (ipykernel)",
   "language": "python",
   "name": "python3"
  },
  "language_info": {
   "codemirror_mode": {
    "name": "ipython",
    "version": 3
   },
   "file_extension": ".py",
   "mimetype": "text/x-python",
   "name": "python",
   "nbconvert_exporter": "python",
   "pygments_lexer": "ipython3",
   "version": "3.11.7"
  }
 },
 "nbformat": 4,
 "nbformat_minor": 5
}
